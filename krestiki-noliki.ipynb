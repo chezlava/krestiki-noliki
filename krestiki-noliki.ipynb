{
 "cells": [
  {
   "cell_type": "code",
   "execution_count": 2,
   "id": "9be45ee3",
   "metadata": {},
   "outputs": [
    {
     "name": "stdout",
     "output_type": "stream",
     "text": [
      "-------------------\n",
      "  Приветсвуем вас  \n",
      "      в игре       \n",
      "  крестики-нолики  \n",
      "-------------------\n",
      " формат ввода: x y \n",
      " x - номер строки  \n",
      " y - номер столбца \n"
     ]
    }
   ],
   "source": [
    "def greet():\n",
    "    print(\"-------------------\")\n",
    "    print(\"  Приветсвуем вас  \")\n",
    "    print(\"      в игре       \")\n",
    "    print(\"  крестики-нолики  \")\n",
    "    print(\"-------------------\")\n",
    "    print(\" формат ввода: x y \")\n",
    "    print(\" x - номер строки  \")\n",
    "    print(\" y - номер столбца \")\n",
    "\n",
    "greet()"
   ]
  },
  {
   "cell_type": "code",
   "execution_count": 3,
   "id": "b5815159",
   "metadata": {},
   "outputs": [],
   "source": [
    "field = [[\" \"] * 3 for i in range(3) ]"
   ]
  },
  {
   "cell_type": "code",
   "execution_count": 4,
   "id": "5b7ca9f1",
   "metadata": {},
   "outputs": [
    {
     "name": "stdout",
     "output_type": "stream",
     "text": [
      "\n",
      "    | 0 | 1 | 2 | \n",
      "  --------------- \n",
      "  0 |   |   |   | \n",
      "  --------------- \n",
      "  1 |   |   |   | \n",
      "  --------------- \n",
      "  2 |   |   |   | \n",
      "  --------------- \n",
      "\n"
     ]
    }
   ],
   "source": [
    "def show():\n",
    "    print()\n",
    "    print(\"    | 0 | 1 | 2 | \")\n",
    "    print(\"  --------------- \")\n",
    "    for i, row in enumerate(field):\n",
    "        row_str = f\"  {i} | {' | '.join(row)} | \"\n",
    "        print(row_str)\n",
    "        print(\"  --------------- \")\n",
    "    print()\n",
    "\n",
    "show()"
   ]
  },
  {
   "cell_type": "code",
   "execution_count": 5,
   "id": "bc082887",
   "metadata": {},
   "outputs": [
    {
     "name": "stdout",
     "output_type": "stream",
     "text": [
      "         Ваш ход: 1 0\n"
     ]
    },
    {
     "data": {
      "text/plain": [
       "(1, 0)"
      ]
     },
     "execution_count": 5,
     "metadata": {},
     "output_type": "execute_result"
    }
   ],
   "source": [
    "def ask():\n",
    "    while True:\n",
    "        x, y = map(int, input(\"         Ваш ход: \").split())\n",
    "        \n",
    "        if 0 > x or x > 2 or  0 > y or  y > 2 :\n",
    "            print(\" Координаты вне диапазона! \")\n",
    "            continue\n",
    "        \n",
    "        if field[x][y] != \" \":\n",
    "            print(\" Клетка занята! \")\n",
    "            continue\n",
    "        \n",
    "        return x, y\n",
    "ask()"
   ]
  },
  {
   "cell_type": "code",
   "execution_count": 6,
   "id": "e7009865",
   "metadata": {},
   "outputs": [
    {
     "name": "stdout",
     "output_type": "stream",
     "text": [
      "         Ваш ход: 1 0\n"
     ]
    },
    {
     "data": {
      "text/plain": [
       "(1, 0)"
      ]
     },
     "execution_count": 6,
     "metadata": {},
     "output_type": "execute_result"
    }
   ],
   "source": [
    "def ask():\n",
    "    while True:\n",
    "        cords = input(\"         Ваш ход: \").split()\n",
    "        \n",
    "        if len(cords) != 2:\n",
    "            print(\" Введите 2 координаты! \")\n",
    "            continue\n",
    "        \n",
    "        x, y = cords\n",
    "        \n",
    "        if not(x.isdigit()) or not(y.isdigit()):\n",
    "            print(\" Введите числа! \")\n",
    "            continue\n",
    "        \n",
    "        x, y = int(x), int(y)\n",
    "        \n",
    "        if 0 > x or x > 2 or  0 > y or  y > 2 :\n",
    "            print(\" Координаты вне диапазона! \")\n",
    "            continue\n",
    "        \n",
    "        if field[x][y] != \" \":\n",
    "            print(\" Клетка занята! \")\n",
    "            continue\n",
    "        \n",
    "        return x, y\n",
    "            \n",
    "ask()"
   ]
  },
  {
   "cell_type": "code",
   "execution_count": 7,
   "id": "069f36a3",
   "metadata": {},
   "outputs": [
    {
     "name": "stdout",
     "output_type": "stream",
     "text": [
      "Выиграл X!!!\n"
     ]
    },
    {
     "data": {
      "text/plain": [
       "True"
      ]
     },
     "execution_count": 7,
     "metadata": {},
     "output_type": "execute_result"
    }
   ],
   "source": [
    "def check_win():\n",
    "    win_cord = (((0, 0), (0, 1), (0, 2)), ((1, 0), (1, 1), (1, 2)), ((2, 0), (2, 1), (2, 2)),\n",
    "                ((0, 2), (1, 1), (2, 0)), ((0, 0), (1, 1), (2, 2)), ((0, 0), (1, 0), (2, 0)),\n",
    "                ((0, 1), (1, 1), (2, 1)), ((0, 2), (1, 2), (2, 2)))\n",
    "    for cord in win_cord:\n",
    "        symbols = []\n",
    "        for c in cord:\n",
    "            symbols.append(field[c[0]][c[1]])\n",
    "        if symbols == [\"X\", \"X\", \"X\"]:\n",
    "            print(\"Выиграл X!!!\")\n",
    "            return True\n",
    "        if symbols == [\"0\", \"0\", \"0\"]:\n",
    "            print(\"Выиграл 0!!!\")\n",
    "            return True\n",
    "    return False\n",
    "\n",
    "field = [\n",
    "    [\" \", \"X\", \" \"],\n",
    "    [\" \", \"X\", \" \"],\n",
    "    [\" \", \"X\", \" \"]\n",
    "]\n",
    "\n",
    "check_win()"
   ]
  },
  {
   "cell_type": "code",
   "execution_count": 8,
   "id": "2a811e0b",
   "metadata": {},
   "outputs": [
    {
     "name": "stdout",
     "output_type": "stream",
     "text": [
      "-------------------\n",
      "  Приветсвуем вас  \n",
      "      в игре       \n",
      "  крестики-нолики  \n",
      "-------------------\n",
      " формат ввода: x y \n",
      " x - номер строки  \n",
      " y - номер столбца \n",
      "\n",
      "    | 0 | 1 | 2 | \n",
      "  --------------- \n",
      "  0 |   |   |   | \n",
      "  --------------- \n",
      "  1 |   |   |   | \n",
      "  --------------- \n",
      "  2 |   |   |   | \n",
      "  --------------- \n",
      "\n",
      " Ходит крестик!\n",
      "         Ваш ход: 0 0\n",
      "\n",
      "    | 0 | 1 | 2 | \n",
      "  --------------- \n",
      "  0 | X |   |   | \n",
      "  --------------- \n",
      "  1 |   |   |   | \n",
      "  --------------- \n",
      "  2 |   |   |   | \n",
      "  --------------- \n",
      "\n",
      " Ходит нолик!\n",
      "         Ваш ход: 1 1\n",
      "\n",
      "    | 0 | 1 | 2 | \n",
      "  --------------- \n",
      "  0 | X |   |   | \n",
      "  --------------- \n",
      "  1 |   | 0 |   | \n",
      "  --------------- \n",
      "  2 |   |   |   | \n",
      "  --------------- \n",
      "\n",
      " Ходит крестик!\n",
      "         Ваш ход: 1 0\n",
      "\n",
      "    | 0 | 1 | 2 | \n",
      "  --------------- \n",
      "  0 | X |   |   | \n",
      "  --------------- \n",
      "  1 | X | 0 |   | \n",
      "  --------------- \n",
      "  2 |   |   |   | \n",
      "  --------------- \n",
      "\n",
      " Ходит нолик!\n",
      "         Ваш ход: 2 0\n",
      "\n",
      "    | 0 | 1 | 2 | \n",
      "  --------------- \n",
      "  0 | X |   |   | \n",
      "  --------------- \n",
      "  1 | X | 0 |   | \n",
      "  --------------- \n",
      "  2 | 0 |   |   | \n",
      "  --------------- \n",
      "\n",
      " Ходит крестик!\n",
      "         Ваш ход: 0 1\n",
      "\n",
      "    | 0 | 1 | 2 | \n",
      "  --------------- \n",
      "  0 | X | X |   | \n",
      "  --------------- \n",
      "  1 | X | 0 |   | \n",
      "  --------------- \n",
      "  2 | 0 |   |   | \n",
      "  --------------- \n",
      "\n",
      " Ходит нолик!\n",
      "         Ваш ход: 0 2\n",
      "Выиграл 0!!!\n"
     ]
    }
   ],
   "source": [
    "greet()\n",
    "field = [[\" \"] * 3 for i in range(3) ]\n",
    "count = 0\n",
    "while True:\n",
    "    count += 1\n",
    "    show()\n",
    "    if count % 2 == 1:\n",
    "        print(\" Ходит крестик!\")\n",
    "    else:\n",
    "        print(\" Ходит нолик!\")\n",
    "    \n",
    "    x, y = ask()\n",
    "    \n",
    "    if count % 2 == 1:\n",
    "        field[x][y] = \"X\"\n",
    "    else:\n",
    "        field[x][y] = \"0\"\n",
    "    \n",
    "    if check_win():\n",
    "        break\n",
    "    \n",
    "    if count == 9:\n",
    "        print(\" Ничья!\")\n",
    "        break"
   ]
  },
  {
   "cell_type": "code",
   "execution_count": null,
   "id": "9e279a3a",
   "metadata": {},
   "outputs": [],
   "source": []
  }
 ],
 "metadata": {
  "kernelspec": {
   "display_name": "Python 3",
   "language": "python",
   "name": "python3"
  },
  "language_info": {
   "codemirror_mode": {
    "name": "ipython",
    "version": 3
   },
   "file_extension": ".py",
   "mimetype": "text/x-python",
   "name": "python",
   "nbconvert_exporter": "python",
   "pygments_lexer": "ipython3",
   "version": "3.8.8"
  }
 },
 "nbformat": 4,
 "nbformat_minor": 5
}
